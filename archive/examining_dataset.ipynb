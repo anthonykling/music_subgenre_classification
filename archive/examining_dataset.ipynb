{
 "cells": [
  {
   "cell_type": "code",
   "execution_count": 1,
   "metadata": {},
   "outputs": [],
   "source": [
    "import pandas as pd\n",
    "import json\n",
    "import os\n",
    "import pickle\n",
    "from dataset_build_helpers import *\n",
    "from data_cleaning_helpers import *"
   ]
  },
  {
   "cell_type": "code",
   "execution_count": 9,
   "metadata": {},
   "outputs": [
    {
     "name": "stderr",
     "output_type": "stream",
     "text": [
      "UsageError: Line magic function `%%script` not found.\n"
     ]
    }
   ],
   "source": [
    "## This creates separate Dataframes for each folder.\n",
    "# NOTE: Do NOT run this unless you want to recreate the DataFrames.  \n",
    "# Instead, just load the electronc_df.pkl file.  It's quicker.\n",
    "%%script false --no-raise-error\n",
    "# Setting folder paths\n",
    "trance_folder_path = '../TestData/electronic/trance'\n",
    "techno_folder_path = '../TestData/electronic/techno'\n",
    "dnb_folder_path = '../TestData/electronic/drum_and_bass'\n",
    "house_folder_path = '../TestData/electronic/house'\n",
    "\n",
    "# obtaining list of DataFrames from each folder\n",
    "trance_dfs = json_to_df_list(trance_folder_path)\n",
    "techno_dfs = json_to_df_list(techno_folder_path)\n",
    "dnb_dfs = json_to_df_list(dnb_folder_path)\n",
    "house_dfs = json_to_df_list(house_folder_path)"
   ]
  },
  {
   "cell_type": "code",
   "execution_count": null,
   "metadata": {},
   "outputs": [],
   "source": [
    "# Concatenating the DataFrames.  Again, you do not need to run this.\n",
    "%%script false --no-raise-error\n",
    "\n",
    "trance_df = pd.concat(trance_dfs, ignore_index=True)\n",
    "techno_df = pd.concat(techno_dfs, ignore_index=True)\n",
    "dnb_df = pd.concat(dnb_dfs, ignore_index=True)\n",
    "house_df = pd.concat(house_dfs, ignore_index=True)\n",
    "electronic_df = pd.concat([techno_df, dnb_df, house_df, trance_df], ignore_index=True)\n",
    "\n",
    "electronic_df.to_pickle('electronic_df.pkl')"
   ]
  },
  {
   "cell_type": "code",
   "execution_count": 2,
   "metadata": {},
   "outputs": [],
   "source": [
    "# electronic_df is a DataFrame containing all the original data from the electronic folder\n",
    "# NOTE: This takes about ~30seconds to load running on 16GB of RAM\n",
    "\n",
    "with open('electronic_df.pkl', 'rb') as file:\n",
    "    electronic_df = pickle.load(file)"
   ]
  },
  {
   "cell_type": "code",
   "execution_count": 3,
   "metadata": {},
   "outputs": [],
   "source": [
    "# Creating a copy of electronic_df to clean.\n",
    "df = electronic_df.copy(deep=True)"
   ]
  },
  {
   "cell_type": "code",
   "execution_count": 4,
   "metadata": {},
   "outputs": [],
   "source": [
    "# this dataframe has the metadata features removed\n",
    "metadata_feat_names = [feat_name for feat_name in electronic_df.keys() if feat_name.startswith('metadata')]\n",
    "df1 = df.drop(columns=metadata_feat_names)\n",
    "# dropping duplicate mbid\n",
    "df2 = df1.drop_duplicates(subset=['mbdata.id'])\n",
    "# removing any potential audiobooks\n",
    "df3 = remove_phrase(df2, 'audiobook')"
   ]
  },
  {
   "cell_type": "code",
   "execution_count": 5,
   "metadata": {},
   "outputs": [],
   "source": [
    "# creating new columns for artist name and id\n",
    "df3['mbdata.artist-name'] = df3['mbdata.artist-credit'].apply(lambda x: x[0]['artist']['name'])\n",
    "df3['mbdata.artist-id'] = df3['mbdata.artist-credit'].apply(lambda x: x[0]['artist']['id'])\n",
    "# normalizing capitalization\n",
    "df3['mbdata.title'] = df3['mbdata.title'].apply(lambda x: x.lower())"
   ]
  },
  {
   "cell_type": "code",
   "execution_count": 16,
   "metadata": {},
   "outputs": [
    {
     "name": "stderr",
     "output_type": "stream",
     "text": [
      "C:\\Users\\kling\\AppData\\Local\\Temp\\ipykernel_25552\\2716324906.py:4: SettingWithCopyWarning: \n",
      "A value is trying to be set on a copy of a slice from a DataFrame.\n",
      "Try using .loc[row_indexer,col_indexer] = value instead\n",
      "\n",
      "See the caveats in the documentation: https://pandas.pydata.org/pandas-docs/stable/user_guide/indexing.html#returning-a-view-versus-a-copy\n",
      "  df4['mbdata.all-tags'] = df4['mbdata.tags'].apply(lambda x: genre_extractor(x))\n",
      "C:\\Users\\kling\\AppData\\Local\\Temp\\ipykernel_25552\\2716324906.py:6: SettingWithCopyWarning: \n",
      "A value is trying to be set on a copy of a slice from a DataFrame.\n",
      "Try using .loc[row_indexer,col_indexer] = value instead\n",
      "\n",
      "See the caveats in the documentation: https://pandas.pydata.org/pandas-docs/stable/user_guide/indexing.html#returning-a-view-versus-a-copy\n",
      "  df4['mbdata.all-tags'] = df4['mbdata.all-tags'].apply(lambda x: setstring_replace(x, '&', 'and'))\n"
     ]
    }
   ],
   "source": [
    "# dropping duplicates by title + artist-id\n",
    "df4 = df3.drop_duplicates(subset=['mbdata.title', 'mbdata.artist-id'], keep='first')\n",
    "# spreading out tags into a single set\n",
    "df4['mbdata.all-tags'] = df4['mbdata.tags'].apply(lambda x: genre_extractor(x))\n",
    "# replacing '&' with 'and' in mbdata.all-tags, mainly to account for genre 'drum & bass'\n",
    "df4['mbdata.all-tags'] = df4['mbdata.all-tags'].apply(lambda x: setstring_replace(x, '&', 'and'))"
   ]
  },
  {
   "cell_type": "code",
   "execution_count": 8,
   "metadata": {},
   "outputs": [
    {
     "name": "stderr",
     "output_type": "stream",
     "text": [
      "UsageError: Line magic function `%%script` not found.\n"
     ]
    }
   ],
   "source": [
    "# this gives you a set of all tags which appear\n",
    "# this is for exploratory purposes\n",
    "%%script false --no-raise-error\n",
    "\n",
    "all_tags = set()\n",
    "X = df4['mbdata.all-tags'].values\n",
    "\n",
    "N = len(X)\n",
    "all_tags = X[0]\n",
    "for i in range(N):\n",
    "    all_tags = all_tags.union(X[i])\n",
    "\n",
    "#all_tags"
   ]
  },
  {
   "cell_type": "code",
   "execution_count": 17,
   "metadata": {},
   "outputs": [
    {
     "name": "stderr",
     "output_type": "stream",
     "text": [
      "C:\\Users\\kling\\AppData\\Local\\Temp\\ipykernel_25552\\3597600508.py:1: SettingWithCopyWarning: \n",
      "A value is trying to be set on a copy of a slice from a DataFrame.\n",
      "Try using .loc[row_indexer,col_indexer] = value instead\n",
      "\n",
      "See the caveats in the documentation: https://pandas.pydata.org/pandas-docs/stable/user_guide/indexing.html#returning-a-view-versus-a-copy\n",
      "  df4['mbdata.genre'] = df4['mbdata.all-tags'].apply(genre_labeler)\n"
     ]
    }
   ],
   "source": [
    "# Creating the final genre feature.  Based on the original tags,\n",
    "# this attempts to label which genre(s) the recording falls into\n",
    "# among house, drum and bass, techno, and trance\n",
    "\n",
    "df4['mbdata.genre'] = df4['mbdata.all-tags'].apply(genre_labeler)"
   ]
  },
  {
   "cell_type": "code",
   "execution_count": 20,
   "metadata": {},
   "outputs": [
    {
     "data": {
      "text/plain": [
       "mbdata.genre\n",
       "{house}                                   8776\n",
       "{drum and bass}                           7121\n",
       "{techno}                                  7092\n",
       "{trance}                                  6547\n",
       "{trance, house}                           2259\n",
       "{house, techno}                           2227\n",
       "{drum and bass, house}                     890\n",
       "{trance, techno}                           742\n",
       "{trance, house, techno}                    400\n",
       "{drum and bass, techno}                    379\n",
       "{drum and bass, trance, house}             199\n",
       "{drum and bass, trance}                    166\n",
       "{drum and bass, house, techno}             134\n",
       "{drum and bass, trance, house, techno}      70\n",
       "{drum and bass, trance, techno}             35\n",
       "Name: count, dtype: int64"
      ]
     },
     "execution_count": 20,
     "metadata": {},
     "output_type": "execute_result"
    }
   ],
   "source": [
    "df4['mbdata.genre'].value_counts()"
   ]
  }
 ],
 "metadata": {
  "kernelspec": {
   "display_name": "Python 3",
   "language": "python",
   "name": "python3"
  },
  "language_info": {
   "codemirror_mode": {
    "name": "ipython",
    "version": 3
   },
   "file_extension": ".py",
   "mimetype": "text/x-python",
   "name": "python",
   "nbconvert_exporter": "python",
   "pygments_lexer": "ipython3",
   "version": "3.9.15"
  }
 },
 "nbformat": 4,
 "nbformat_minor": 2
}
